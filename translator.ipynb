{
  "nbformat": 4,
  "nbformat_minor": 0,
  "metadata": {
    "colab": {
      "name": "translator.ipynb",
      "provenance": [],
      "authorship_tag": "ABX9TyNV8FNQzjGD4frdsRgapRet",
      "include_colab_link": true
    },
    "kernelspec": {
      "name": "python3",
      "display_name": "Python 3"
    },
    "language_info": {
      "name": "python"
    }
  },
  "cells": [
    {
      "cell_type": "markdown",
      "metadata": {
        "id": "view-in-github",
        "colab_type": "text"
      },
      "source": [
        "<a href=\"https://colab.research.google.com/github/anilreddychichili/gitprojectpp/blob/master/translator.ipynb\" target=\"_parent\"><img src=\"https://colab.research.google.com/assets/colab-badge.svg\" alt=\"Open In Colab\"/></a>"
      ]
    },
    {
      "cell_type": "code",
      "metadata": {
        "id": "yrX2hO9bed-0"
      },
      "source": [
        "pip install translate\n"
      ],
      "execution_count": null,
      "outputs": []
    },
    {
      "cell_type": "code",
      "metadata": {
        "id": "M30Cu4W3fR2R"
      },
      "source": [
        "from translate import Translator"
      ],
      "execution_count": 18,
      "outputs": []
    },
    {
      "cell_type": "code",
      "metadata": {
        "colab": {
          "base_uri": "https://localhost:8080/"
        },
        "id": "jsqzns4UgkHA",
        "outputId": "efb55bbc-561d-452a-858a-ad07e8704062"
      },
      "source": [
        "Text = 'this is colab,how are you all? hope everyone are doing good'\n",
        "translator = Translator(from_lang=\"English\",to_lang=\"Hindi\")\n",
        "translation = translator.translate(Text)\n",
        "print('translated text:  ', translation)"
      ],
      "execution_count": 19,
      "outputs": [
        {
          "output_type": "stream",
          "name": "stdout",
          "text": [
            "translated text:   यह कोलाब है, कैसे हो आप सब? आशा है कि हर कोई अच्छा कर रहा है\n"
          ]
        }
      ]
    },
    {
      "cell_type": "code",
      "metadata": {
        "id": "0SYs3glAt21E"
      },
      "source": [
        ""
      ],
      "execution_count": null,
      "outputs": []
    }
  ]
}